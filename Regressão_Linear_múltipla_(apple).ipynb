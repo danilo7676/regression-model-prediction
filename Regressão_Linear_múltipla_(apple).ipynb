{
  "nbformat": 4,
  "nbformat_minor": 0,
  "metadata": {
    "colab": {
      "provenance": []
    },
    "kernelspec": {
      "name": "python3",
      "display_name": "Python 3"
    },
    "language_info": {
      "name": "python"
    }
  },
  "cells": [
    {
      "cell_type": "markdown",
      "source": [
        "# Introdução : \n",
        "\n",
        "Este notebook apresenta a utilização de um modelo de regressão linear \n",
        "múltipla para prever o preço das ações da empresa Apple. Utilizamos uma base de dados que contém informações de (1980 - 2020) com o preço de abertura, o preço máximo e mínimo alcançados diariamente, o volume negociado no dia e o preço de fechamento ajustado.\n",
        "\n",
        "\n",
        "A regressão linear múltipla é uma técnica estatística que busca estabelecer uma relação entre uma variável dependente (neste caso, o preço das ações) e várias variáveis independentes (abertura, máximo, mínimo, volume e preço de fechamento ajustado). Essas variáveis independentes são usadas como recursos para prever o valor da variável dependente.\n",
        "\n",
        "Ao utilizar essa abordagem, podemos explorar a influência conjunta dessas variáveis independentes no preço das ações da Apple. O preço de abertura pode fornecer insights sobre o sentimento do mercado no início do dia, enquanto o preço máximo e mínimo alcançados diariamente podem indicar a volatilidade do mercado. O volume negociado no dia pode refletir o interesse e a participação dos investidores, enquanto o preço de fechamento ajustado leva em consideração eventos corporativos que podem afetar o preço das ações.\n",
        "\n",
        "\n",
        "---\n",
        "\n",
        "\n",
        "\n"
      ],
      "metadata": {
        "id": "WuHNkL7bLmLf"
      }
    },
    {
      "cell_type": "markdown",
      "source": [
        "#  Este código é para concender acesso ao google drive\n",
        "\n"
      ],
      "metadata": {
        "id": "r1PfXM3O1FUR"
      }
    },
    {
      "cell_type": "code",
      "execution_count": 41,
      "metadata": {
        "id": "A0I-ag8mMV30",
        "colab": {
          "base_uri": "https://localhost:8080/"
        },
        "outputId": "1ebf4013-ca8a-438e-a88e-096754e9e0b1"
      },
      "outputs": [
        {
          "output_type": "stream",
          "name": "stdout",
          "text": [
            "Mounted at /content/drive\n"
          ]
        }
      ],
      "source": [
        "from google.colab import drive\n",
        "drive.mount('/content/drive', force_remount=True)"
      ]
    },
    {
      "cell_type": "markdown",
      "source": [
        "#Esse código importa as bibliotecas necessárias para o funcionamento do modelo , e para e medir seus resultados eo o endereço do arquivo que será nossa base de dados."
      ],
      "metadata": {
        "id": "k4ZnJTmv9ZbX"
      }
    },
    {
      "cell_type": "code",
      "source": [
        "# Importar bibliotecas necessárias\n",
        "import pandas as pd\n",
        "import numpy as np\n",
        "from sklearn.linear_model import LinearRegression\n",
        "from sklearn.model_selection import train_test_split\n",
        "from sklearn.metrics import mean_squared_error, r2_score\n",
        "import matplotlib.pyplot as plt\n",
        "# Carregar dados históricos de preços de ações\n",
        "df = pd.read_csv('/content/drive/MyDrive/Projetos Python /Projetos Machine Learn /Regreção linear/AAPL.csv')"
      ],
      "metadata": {
        "id": "ML5cPiHgrHIA"
      },
      "execution_count": 42,
      "outputs": []
    },
    {
      "cell_type": "markdown",
      "source": [
        "#A linha de código abaixo é somente para mostrar a tabela onde com  os dados."
      ],
      "metadata": {
        "id": "-UC2l2ob-SpM"
      }
    },
    {
      "cell_type": "code",
      "source": [
        "df.head()"
      ],
      "metadata": {
        "colab": {
          "base_uri": "https://localhost:8080/",
          "height": 215
        },
        "id": "KQq17YQSrcy1",
        "outputId": "34e598af-851d-49b8-8809-4167d74dddc6"
      },
      "execution_count": 43,
      "outputs": [
        {
          "output_type": "execute_result",
          "data": {
            "text/plain": [
              "         Date      Open      High       Low     Close  Adj Close     Volume\n",
              "0  1980-12-12  0.513393  0.515625  0.513393  0.513393   0.406782  117258400\n",
              "1  1980-12-15  0.488839  0.488839  0.486607  0.486607   0.385558   43971200\n",
              "2  1980-12-16  0.453125  0.453125  0.450893  0.450893   0.357260   26432000\n",
              "3  1980-12-17  0.462054  0.464286  0.462054  0.462054   0.366103   21610400\n",
              "4  1980-12-18  0.475446  0.477679  0.475446  0.475446   0.376715   18362400"
            ],
            "text/html": [
              "\n",
              "  <div id=\"df-7305f802-2496-4c6c-8637-b20a1c3186c8\">\n",
              "    <div class=\"colab-df-container\">\n",
              "      <div>\n",
              "<style scoped>\n",
              "    .dataframe tbody tr th:only-of-type {\n",
              "        vertical-align: middle;\n",
              "    }\n",
              "\n",
              "    .dataframe tbody tr th {\n",
              "        vertical-align: top;\n",
              "    }\n",
              "\n",
              "    .dataframe thead th {\n",
              "        text-align: right;\n",
              "    }\n",
              "</style>\n",
              "<table border=\"1\" class=\"dataframe\">\n",
              "  <thead>\n",
              "    <tr style=\"text-align: right;\">\n",
              "      <th></th>\n",
              "      <th>Date</th>\n",
              "      <th>Open</th>\n",
              "      <th>High</th>\n",
              "      <th>Low</th>\n",
              "      <th>Close</th>\n",
              "      <th>Adj Close</th>\n",
              "      <th>Volume</th>\n",
              "    </tr>\n",
              "  </thead>\n",
              "  <tbody>\n",
              "    <tr>\n",
              "      <th>0</th>\n",
              "      <td>1980-12-12</td>\n",
              "      <td>0.513393</td>\n",
              "      <td>0.515625</td>\n",
              "      <td>0.513393</td>\n",
              "      <td>0.513393</td>\n",
              "      <td>0.406782</td>\n",
              "      <td>117258400</td>\n",
              "    </tr>\n",
              "    <tr>\n",
              "      <th>1</th>\n",
              "      <td>1980-12-15</td>\n",
              "      <td>0.488839</td>\n",
              "      <td>0.488839</td>\n",
              "      <td>0.486607</td>\n",
              "      <td>0.486607</td>\n",
              "      <td>0.385558</td>\n",
              "      <td>43971200</td>\n",
              "    </tr>\n",
              "    <tr>\n",
              "      <th>2</th>\n",
              "      <td>1980-12-16</td>\n",
              "      <td>0.453125</td>\n",
              "      <td>0.453125</td>\n",
              "      <td>0.450893</td>\n",
              "      <td>0.450893</td>\n",
              "      <td>0.357260</td>\n",
              "      <td>26432000</td>\n",
              "    </tr>\n",
              "    <tr>\n",
              "      <th>3</th>\n",
              "      <td>1980-12-17</td>\n",
              "      <td>0.462054</td>\n",
              "      <td>0.464286</td>\n",
              "      <td>0.462054</td>\n",
              "      <td>0.462054</td>\n",
              "      <td>0.366103</td>\n",
              "      <td>21610400</td>\n",
              "    </tr>\n",
              "    <tr>\n",
              "      <th>4</th>\n",
              "      <td>1980-12-18</td>\n",
              "      <td>0.475446</td>\n",
              "      <td>0.477679</td>\n",
              "      <td>0.475446</td>\n",
              "      <td>0.475446</td>\n",
              "      <td>0.376715</td>\n",
              "      <td>18362400</td>\n",
              "    </tr>\n",
              "  </tbody>\n",
              "</table>\n",
              "</div>\n",
              "      <button class=\"colab-df-convert\" onclick=\"convertToInteractive('df-7305f802-2496-4c6c-8637-b20a1c3186c8')\"\n",
              "              title=\"Convert this dataframe to an interactive table.\"\n",
              "              style=\"display:none;\">\n",
              "        \n",
              "  <svg xmlns=\"http://www.w3.org/2000/svg\" height=\"24px\"viewBox=\"0 0 24 24\"\n",
              "       width=\"24px\">\n",
              "    <path d=\"M0 0h24v24H0V0z\" fill=\"none\"/>\n",
              "    <path d=\"M18.56 5.44l.94 2.06.94-2.06 2.06-.94-2.06-.94-.94-2.06-.94 2.06-2.06.94zm-11 1L8.5 8.5l.94-2.06 2.06-.94-2.06-.94L8.5 2.5l-.94 2.06-2.06.94zm10 10l.94 2.06.94-2.06 2.06-.94-2.06-.94-.94-2.06-.94 2.06-2.06.94z\"/><path d=\"M17.41 7.96l-1.37-1.37c-.4-.4-.92-.59-1.43-.59-.52 0-1.04.2-1.43.59L10.3 9.45l-7.72 7.72c-.78.78-.78 2.05 0 2.83L4 21.41c.39.39.9.59 1.41.59.51 0 1.02-.2 1.41-.59l7.78-7.78 2.81-2.81c.8-.78.8-2.07 0-2.86zM5.41 20L4 18.59l7.72-7.72 1.47 1.35L5.41 20z\"/>\n",
              "  </svg>\n",
              "      </button>\n",
              "      \n",
              "  <style>\n",
              "    .colab-df-container {\n",
              "      display:flex;\n",
              "      flex-wrap:wrap;\n",
              "      gap: 12px;\n",
              "    }\n",
              "\n",
              "    .colab-df-convert {\n",
              "      background-color: #E8F0FE;\n",
              "      border: none;\n",
              "      border-radius: 50%;\n",
              "      cursor: pointer;\n",
              "      display: none;\n",
              "      fill: #1967D2;\n",
              "      height: 32px;\n",
              "      padding: 0 0 0 0;\n",
              "      width: 32px;\n",
              "    }\n",
              "\n",
              "    .colab-df-convert:hover {\n",
              "      background-color: #E2EBFA;\n",
              "      box-shadow: 0px 1px 2px rgba(60, 64, 67, 0.3), 0px 1px 3px 1px rgba(60, 64, 67, 0.15);\n",
              "      fill: #174EA6;\n",
              "    }\n",
              "\n",
              "    [theme=dark] .colab-df-convert {\n",
              "      background-color: #3B4455;\n",
              "      fill: #D2E3FC;\n",
              "    }\n",
              "\n",
              "    [theme=dark] .colab-df-convert:hover {\n",
              "      background-color: #434B5C;\n",
              "      box-shadow: 0px 1px 3px 1px rgba(0, 0, 0, 0.15);\n",
              "      filter: drop-shadow(0px 1px 2px rgba(0, 0, 0, 0.3));\n",
              "      fill: #FFFFFF;\n",
              "    }\n",
              "  </style>\n",
              "\n",
              "      <script>\n",
              "        const buttonEl =\n",
              "          document.querySelector('#df-7305f802-2496-4c6c-8637-b20a1c3186c8 button.colab-df-convert');\n",
              "        buttonEl.style.display =\n",
              "          google.colab.kernel.accessAllowed ? 'block' : 'none';\n",
              "\n",
              "        async function convertToInteractive(key) {\n",
              "          const element = document.querySelector('#df-7305f802-2496-4c6c-8637-b20a1c3186c8');\n",
              "          const dataTable =\n",
              "            await google.colab.kernel.invokeFunction('convertToInteractive',\n",
              "                                                     [key], {});\n",
              "          if (!dataTable) return;\n",
              "\n",
              "          const docLinkHtml = 'Like what you see? Visit the ' +\n",
              "            '<a target=\"_blank\" href=https://colab.research.google.com/notebooks/data_table.ipynb>data table notebook</a>'\n",
              "            + ' to learn more about interactive tables.';\n",
              "          element.innerHTML = '';\n",
              "          dataTable['output_type'] = 'display_data';\n",
              "          await google.colab.output.renderOutput(dataTable, element);\n",
              "          const docLink = document.createElement('div');\n",
              "          docLink.innerHTML = docLinkHtml;\n",
              "          element.appendChild(docLink);\n",
              "        }\n",
              "      </script>\n",
              "    </div>\n",
              "  </div>\n",
              "  "
            ]
          },
          "metadata": {},
          "execution_count": 43
        }
      ]
    },
    {
      "cell_type": "markdown",
      "source": [
        "# Nesta parte selecionamos as variáveis independentes (X) , e a variável dependente (y) , e dividimos os dados em conjuntos de treinamento e teste onde 70% dos dados são para teste e 30% para treinamento."
      ],
      "metadata": {
        "id": "zgWgtySy-8Di"
      }
    },
    {
      "cell_type": "code",
      "source": [
        "# Selecionar atributos relevantes para a previsão\n",
        "X = df[['Volume','Open']]\n",
        "y = df['Close']\n",
        "\n",
        "# Dividir dados em conjuntos de treinamento e teste\n",
        "X_train, X_test, y_train, y_test = train_test_split(X, y, test_size=0.7, random_state=55)"
      ],
      "metadata": {
        "id": "yFbvKTi8-3sX"
      },
      "execution_count": null,
      "outputs": []
    },
    {
      "cell_type": "markdown",
      "source": [
        "# Nessa parte do código implementa o treinamento de um modelo de regressão linear utilizando os dados de treinamento (X_train e y_train). Em seguida, ele faz previsões no conjunto de teste (X_test) usando o modelo treinado e armazena as previsões na variável y_pred."
      ],
      "metadata": {
        "id": "sYwlh8VfWwcL"
      }
    },
    {
      "cell_type": "code",
      "source": [
        "# Treinar o modelo de regressão linear\n",
        "reg = LinearRegression()\n",
        "reg.fit(X_train, y_train)\n",
        "\n",
        "# Fazer previsões no conjunto de teste\n",
        "y_pred = reg.predict(X_test)"
      ],
      "metadata": {
        "id": "yYob7HN_W3Y3"
      },
      "execution_count": null,
      "outputs": []
    },
    {
      "cell_type": "markdown",
      "source": [
        "#Esse trecho de código calcula o desvio padrão dos resíduos do modelo de regressão linear, cria um DataFrame com os valores reais, as previsões e o desvio padrão, e em seguida, salva esse DataFrame em um arquivo CSV. Essas informações são úteis para avaliar a precisão do modelo e comparar os valores previstos com os valores reais."
      ],
      "metadata": {
        "id": "VNqL1sYiW5Ah"
      }
    },
    {
      "cell_type": "code",
      "source": [
        "# Calcula o desvio padrão , para medir a acertividade do modelo\n",
        "desvio_padrao = np.std(y_test - y_pred)\n",
        "desvio_padrao = round(desvio_padrao, 3)\n",
        "\n",
        "# Criando um DataFrame com os dados reais, previstos e porcentagem de acertos\n",
        "df = pd.DataFrame({'Dados Reais': y_test, 'Dados Previstos': y_pred, 'Desvio': desvio_padrao})\n",
        "\n",
        "# Salvando o DataFrame como um arquivo CSV\n",
        "df.to_csv('tabela_comparativa.csv', index=False)"
      ],
      "metadata": {
        "id": "hRyQXbMasBlA"
      },
      "execution_count": 44,
      "outputs": []
    }
  ]
}